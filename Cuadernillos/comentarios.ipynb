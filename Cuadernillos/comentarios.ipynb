{
 "cells": [
  {
   "cell_type": "code",
   "execution_count": null,
   "metadata": {
    "id": "bp4Rpca6D1w0"
   },
   "outputs": [],
   "source": []
  },
  {
   "cell_type": "markdown",
   "metadata": {
    "id": "KGPJ_Lc4D3uN"
   },
   "source": [
    "## **Comentarios en Python**\n",
    "\n",
    "Los comentarios en el código lo utlizamos para aclarar la funcionalidad de nuestro código. Los puntos principales a tener en cuenta son:\n",
    "\n",
    "\n",
    "\n",
    "* Debe ser una frase completa y concisa.\n",
    "* Nuestro codigo no debe verse ofuscado por lo largo y complejo que son los comentarios.\n",
    "* Si se actualiza el código, deben actualizarse los comentarios.\n",
    "* Es mejor un código claro que un buen comentario.\n",
    "\n",
    "Una vez que tenemos en cuenta los puntos anteriores, veremos como hacer comentarios en Python.\n",
    "\n",
    "Siempre van precedidos por el símbolo #. Hay dos tipos de comentarios:\n",
    "\n",
    "### Comentario en línea (inline)\n",
    "\n",
    "Son los comentarios que se utilizan después de un código en la misma línea, ejemplo:"
   ]
  },
  {
   "cell_type": "code",
   "execution_count": null,
   "metadata": {
    "id": "BmMpnlUKFSZU"
   },
   "outputs": [],
   "source": [
    "x = 5 # Valor por defecto de x"
   ]
  },
  {
   "cell_type": "markdown",
   "metadata": {
    "id": "kfkRTtXVFWiO"
   },
   "source": [
    "### Comentarios en bloque\n",
    "\n",
    "Se utilizan para aportar información de valor sobre el código a continuación, pueden ocupar una sola línea o varias. Ejemplo:"
   ]
  },
  {
   "cell_type": "code",
   "execution_count": null,
   "metadata": {
    "id": "Urd7CtORFnY_"
   },
   "outputs": [],
   "source": [
    "# Operaciones para obtener el área del triángulo:\n",
    "area = (base*altura) /2\n",
    "\n",
    "# El siguiente bloque de código permite evaluar la funcionalidad \n",
    "# de X\n",
    "check(x)"
   ]
  },
  {
   "cell_type": "markdown",
   "metadata": {
    "id": "3iwVkS40GTVF"
   },
   "source": [
    "### Comentarios en bloque multilínea (otra forma)\n",
    "\n",
    "Como aprendimos en lecciones anteriores, usando la triple comilla podemos definir el inicio y fin de un string. En Python, si utilizamos este literal sin asignarlo a ninguna variable, es ignorado a la hora de hacer el bytecode, lo cual, nos permite otra forma de hacer comentarios. Ejemplo:"
   ]
  },
  {
   "cell_type": "code",
   "execution_count": null,
   "metadata": {
    "id": "_mNPUlihGskr"
   },
   "outputs": [],
   "source": [
    "\"\"\" Esta es otra forma de hacer comentarios\n",
    "en multiples líneas, ambas son válidas \"\"\"\n",
    "x = 5"
   ]
  },
  {
   "cell_type": "markdown",
   "metadata": {
    "id": "tIXTdb1tG1nl"
   },
   "source": [
    "Como se puede observar en el ejemplo anterior, las primeras 2 líneas de código no están asignadas a ninguna variable, por lo tanto, serán ignoradas."
   ]
  },
  {
   "cell_type": "markdown",
   "metadata": {
    "id": "sI2egsixHHjn"
   },
   "source": [
    "## **Operadores y definiciones**\n",
    "\n",
    "Un punto importante, a la hroa de escribir nuestro código, es conocer que podemos separar en diferentes líneas los operadores, permitiendo una mayor claridad del código, por ejemplo:"
   ]
  },
  {
   "cell_type": "code",
   "execution_count": null,
   "metadata": {
    "id": "vyLpOW3YHqb2"
   },
   "outputs": [],
   "source": [
    "ingresos = (salario_base\n",
    "          + vestuario\n",
    "          + (guardias - dias_libres)\n",
    "          - irpf\n",
    "          - seguros)"
   ]
  }
 ],
 "metadata": {
  "colab": {
   "provenance": []
  },
  "kernelspec": {
   "display_name": "Python 3.9",
   "language": "python",
   "name": "python3"
  },
  "language_info": {
   "codemirror_mode": {
    "name": "ipython",
    "version": 3
   },
   "file_extension": ".py",
   "mimetype": "text/x-python",
   "name": "python",
   "nbconvert_exporter": "python",
   "pygments_lexer": "ipython3",
   "version": "3.9.7"
  }
 },
 "nbformat": 4,
 "nbformat_minor": 4
}